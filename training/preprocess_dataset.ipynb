{
 "cells": [
  {
   "cell_type": "code",
   "execution_count": null,
   "id": "c1ee4ceb",
   "metadata": {},
   "outputs": [],
   "source": [
    "!pip install transformers[torch] datasets evaluate seqeval\n",
    "!pip install torch\n",
    "!pip install --upgrade huggingface_hub"
   ]
  },
  {
   "cell_type": "code",
   "execution_count": null,
   "id": "dd016f62",
   "metadata": {},
   "outputs": [],
   "source": [
    "from huggingface_hub import login\n",
    "\n",
    "login(token=\"FILL IN\")"
   ]
  },
  {
   "cell_type": "code",
   "execution_count": 2,
   "id": "3fd07bcd",
   "metadata": {},
   "outputs": [],
   "source": [
    "import json\n",
    "import os\n",
    "\n",
    "data = []\n",
    "\n",
    "# Open json file with dataset examples\n",
    "file_path = './dataset.json'\n",
    "with open(file_path, 'r', encoding='utf-8') as file:\n",
    "    examples = json.load(file)\n",
    "    \n",
    "    # Process each example and add to data list\n",
    "    for example in examples:\n",
    "        \n",
    "        image_path = os.path.join('./images/', example['image_file_name'])\n",
    "        if os.path.exists(image_path):\n",
    "            data.append({\n",
    "                \"entities\": example[\"entities\"],\n",
    "                \"image\": image_path\n",
    "            })\n",
    "            \n",
    "        else:\n",
    "            raise Exception(\"Image could not be found.\")"
   ]
  },
  {
   "cell_type": "code",
   "execution_count": 5,
   "id": "8491d1ee",
   "metadata": {},
   "outputs": [],
   "source": [
    "# Load dataset and split into train and val\n",
    "from datasets import Dataset, DatasetDict, Features, Value, Image, Sequence\n",
    "from PIL import Image as PILImage\n",
    "\n",
    "# Convert path to image\n",
    "features = Features({\n",
    "    'image': Image(),\n",
    "    'entities': Sequence({\n",
    "        'name': Value('string'),\n",
    "        'category': Value('string')\n",
    "    })\n",
    "})\n",
    "dataset = Dataset.from_list(data, features=features)\n",
    "\n",
    "# Split training and val sets after shuffling\n",
    "dataset = dataset.shuffle(seed=40)\n",
    "train_dataset = Dataset.from_dict(dataset[10:])\n",
    "val_dataset = Dataset.from_dict(dataset[0:10])"
   ]
  },
  {
   "cell_type": "code",
   "execution_count": 9,
   "id": "d88ffd35",
   "metadata": {},
   "outputs": [
    {
     "data": {
      "application/vnd.jupyter.widget-view+json": {
       "model_id": "d2a84da6bf0c4b18be42baa3cf608aea",
       "version_major": 2,
       "version_minor": 0
      },
      "text/plain": [
       "Uploading the dataset shards:   0%|          | 0/1 [00:00<?, ?it/s]"
      ]
     },
     "metadata": {},
     "output_type": "display_data"
    },
    {
     "data": {
      "application/vnd.jupyter.widget-view+json": {
       "model_id": "6e1ff22f17cd4559aacf85460dbbe6c3",
       "version_major": 2,
       "version_minor": 0
      },
      "text/plain": [
       "Map:   0%|          | 0/13 [00:00<?, ? examples/s]"
      ]
     },
     "metadata": {},
     "output_type": "display_data"
    },
    {
     "data": {
      "application/vnd.jupyter.widget-view+json": {
       "model_id": "b97d8fff067b41e8a0002bcfefd5cc3d",
       "version_major": 2,
       "version_minor": 0
      },
      "text/plain": [
       "Creating parquet from Arrow format:   0%|          | 0/1 [00:00<?, ?ba/s]"
      ]
     },
     "metadata": {},
     "output_type": "display_data"
    },
    {
     "data": {
      "application/vnd.jupyter.widget-view+json": {
       "model_id": "33727c8af978405b85ee0de146974bb0",
       "version_major": 2,
       "version_minor": 0
      },
      "text/plain": [
       "Uploading the dataset shards:   0%|          | 0/1 [00:00<?, ?it/s]"
      ]
     },
     "metadata": {},
     "output_type": "display_data"
    },
    {
     "data": {
      "application/vnd.jupyter.widget-view+json": {
       "model_id": "9c8c610b9b06485c8db03b91c1a2d7ec",
       "version_major": 2,
       "version_minor": 0
      },
      "text/plain": [
       "Map:   0%|          | 0/10 [00:00<?, ? examples/s]"
      ]
     },
     "metadata": {},
     "output_type": "display_data"
    },
    {
     "data": {
      "application/vnd.jupyter.widget-view+json": {
       "model_id": "314a61c6960f46e99bffe3d24257b3d3",
       "version_major": 2,
       "version_minor": 0
      },
      "text/plain": [
       "Creating parquet from Arrow format:   0%|          | 0/1 [00:00<?, ?ba/s]"
      ]
     },
     "metadata": {},
     "output_type": "display_data"
    }
   ],
   "source": [
    "# Upload to HF\n",
    "dataset_dict = DatasetDict({\n",
    "    'train': train_dataset,\n",
    "    'val': val_dataset\n",
    "})\n",
    "\n",
    "dataset_dict.push_to_hub(\"ekolasky/EntityExtractionFromEmails\")"
   ]
  },
  {
   "cell_type": "code",
   "execution_count": null,
   "id": "3771ba0c",
   "metadata": {},
   "outputs": [],
   "source": []
  }
 ],
 "metadata": {
  "kernelspec": {
   "display_name": "Python 3",
   "language": "python",
   "name": "python3"
  },
  "language_info": {
   "codemirror_mode": {
    "name": "ipython",
    "version": 3
   },
   "file_extension": ".py",
   "mimetype": "text/x-python",
   "name": "python",
   "nbconvert_exporter": "python",
   "pygments_lexer": "ipython3",
   "version": "3.8.8"
  }
 },
 "nbformat": 4,
 "nbformat_minor": 5
}

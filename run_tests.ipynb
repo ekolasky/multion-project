{
 "cells": [
  {
   "cell_type": "markdown",
   "id": "694c331d",
   "metadata": {},
   "source": [
    "# Run test scripts for API"
   ]
  },
  {
   "cell_type": "code",
   "execution_count": 1,
   "id": "b9e38e29",
   "metadata": {},
   "outputs": [
    {
     "name": "stdout",
     "output_type": "stream",
     "text": [
      ".........\n",
      "----------------------------------------------------------------------\n",
      "Ran 9 tests in 108.884s\n",
      "\n",
      "OK\n"
     ]
    }
   ],
   "source": [
    "!python tests/test_api.py"
   ]
  },
  {
   "cell_type": "code",
   "execution_count": null,
   "id": "cc8078c6-a37c-49b7-bc46-f6b549e181e8",
   "metadata": {},
   "outputs": [],
   "source": []
  }
 ],
 "metadata": {
  "kernelspec": {
   "display_name": "Python 3 (ipykernel)",
   "language": "python",
   "name": "python3"
  },
  "language_info": {
   "codemirror_mode": {
    "name": "ipython",
    "version": 3
   },
   "file_extension": ".py",
   "mimetype": "text/x-python",
   "name": "python",
   "nbconvert_exporter": "python",
   "pygments_lexer": "ipython3",
   "version": "3.10.12"
  }
 },
 "nbformat": 4,
 "nbformat_minor": 5
}
